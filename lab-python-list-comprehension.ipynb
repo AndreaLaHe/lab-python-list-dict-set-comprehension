{
 "cells": [
  {
   "cell_type": "markdown",
   "id": "25d7736c-ba17-4aff-b6bb-66eba20fbf4e",
   "metadata": {},
   "source": [
    "# Lab | List, Dict and Set Comprehension"
   ]
  },
  {
   "cell_type": "markdown",
   "id": "7dd3cbde-675a-4b81-92c3-f728846dbe06",
   "metadata": {},
   "source": [
    "## Exercise: Managing Customer Orders Optimized with Comprehension"
   ]
  },
  {
   "cell_type": "markdown",
   "id": "5d500160-2fb7-4777-b5e4-09d45ebaf328",
   "metadata": {},
   "source": [
    "In the previous exercise, you developed a program to manage customer orders and inventory. Now, let's take it a step further and incorporate comprehension into your code.\n",
    "\n",
    "Follow the steps below to complete the exercise:\n",
    "\n",
    "1. Review your code from the previous exercise and identify areas where you can apply comprehension to simplify and streamline your code. \n",
    "\n",
    "    - *Hint: Apply it to initialize inventory, updating the inventory and printing the updated inventory.*\n",
    "    \n",
    "    - For example, in initializing the inventory, we could have:\n",
    "    \n",
    "        ```python\n",
    "        def initialize_inventory(products):\n",
    "            inventory = {product: int(input(f\"Enter the quantity of {product}s available: \")) for product in products}\n",
    "            return inventory\n",
    "\n",
    "        ```\n",
    "<br>\n",
    "    \n",
    "    \n",
    "2. Modify the function get_customer_orders so it prompts the user to enter the number of customer orders and gathers the product names using a loop and user input. Use comprehension.\n",
    "\n",
    "3. Add a new function to calculate the total price of the customer order. For each product in customer_orders, prompt the user to enter the price of that product. Use comprehension to calculate the total price. Note: assume that the user can only have 1 unit of each product.\n",
    "\n",
    "4. Modify the update_inventory function to remove the product from the inventory if its quantity becomes zero after fulfilling the customer orders. Use comprehension to filter out the products with a quantity of zero from the inventory.\n",
    "\n",
    "5. Print the total price of the customer order.\n",
    "\n",
    "Your code should produce output similar to the following:\n",
    "\n",
    "```python\n",
    "Enter the quantity of t-shirts available:  5\n",
    "Enter the quantity of mugs available:  4\n",
    "Enter the quantity of hats available:  3\n",
    "Enter the quantity of books available:  2\n",
    "Enter the quantity of keychains available:  1\n",
    "Enter the number of customer orders:  2\n",
    "Enter the name of a product that a customer wants to order:  hat\n",
    "Enter the name of a product that a customer wants to order:  keychain\n",
    "\n",
    "Order Statistics:\n",
    "Total Products Ordered: 2\n",
    "Percentage of Unique Products Ordered: 40.0\n",
    "\n",
    "Updated Inventory:\n",
    "t-shirt: 5\n",
    "mug: 4\n",
    "hat: 2\n",
    "book: 2\n",
    "Enter the price of keychain:  5\n",
    "Enter the price of hat:  10\n",
    "Total Price: 15.0\n",
    "\n",
    "```\n"
   ]
  },
  {
   "cell_type": "markdown",
   "id": "4ae86826",
   "metadata": {},
   "source": [
    "<h1>Ejercicio 1<h1>"
   ]
  },
  {
   "cell_type": "code",
   "execution_count": 7,
   "id": "31cae612",
   "metadata": {},
   "outputs": [],
   "source": [
    "products = [\"t-shirts\", \"mugs\", \"hats\", \"books\", \"keychains\"]\n",
    "\n",
    "inventory = {}\n",
    "\n",
    "def initialize_inventory(products):\n",
    "    \n",
    "    inventory = {product: int(input(f\"Introduce la cantidad disponible de {product}s: \")) for product in products}\n",
    "    return inventory\n",
    "\n",
    "inventory = initialize_inventory(products)"
   ]
  },
  {
   "cell_type": "code",
   "execution_count": 8,
   "id": "ef6a4d56",
   "metadata": {},
   "outputs": [
    {
     "name": "stdout",
     "output_type": "stream",
     "text": [
      "\n",
      "Inventario:\n",
      "t-shirts: 5\n",
      "mugs: 4\n",
      "hats: 3\n",
      "books: 2\n",
      "keychains: 1\n"
     ]
    }
   ],
   "source": [
    "\n",
    "print(\"\\nInventario:\")\n",
    "for product in inventory:\n",
    "    print(f\"{product}: {inventory[product]}\")"
   ]
  },
  {
   "cell_type": "markdown",
   "id": "1f5a2c07",
   "metadata": {},
   "source": [
    "<h1>Ejercicio 2<h1>"
   ]
  },
  {
   "cell_type": "code",
   "execution_count": 9,
   "id": "1a67f076",
   "metadata": {},
   "outputs": [],
   "source": [
    "def get_customer_orders():\n",
    "    num_orders = int(input(\"Introduce el número de pedidos del cliente: \"))\n",
    "    customer_orders = {input(f\"Introduce el nombre del producto {i+1}: \").strip() for i in range(num_orders)}\n",
    "    return customer_orders"
   ]
  },
  {
   "cell_type": "code",
   "execution_count": 10,
   "id": "bd21b96a",
   "metadata": {},
   "outputs": [],
   "source": [
    "customer_orders = get_customer_orders()"
   ]
  },
  {
   "cell_type": "code",
   "execution_count": 11,
   "id": "2603ca1f",
   "metadata": {},
   "outputs": [
    {
     "name": "stdout",
     "output_type": "stream",
     "text": [
      "Pedidos del cliente: {'keychain', 'hat'}\n"
     ]
    }
   ],
   "source": [
    "print(\"Pedidos del cliente:\", customer_orders)"
   ]
  },
  {
   "cell_type": "markdown",
   "id": "ea363271",
   "metadata": {},
   "source": [
    "<h1>Ejercicio 3:<h1> "
   ]
  },
  {
   "cell_type": "code",
   "execution_count": 18,
   "id": "fcd44aed",
   "metadata": {},
   "outputs": [],
   "source": [
    "def total_price_custumer_orders(customer_orders):\n",
    "    total_price = sum([float(input(f\"Introduce el precio de {product}: \")) for product in customer_orders])\n",
    "    return total_price"
   ]
  },
  {
   "cell_type": "code",
   "execution_count": 19,
   "id": "c66c6aab",
   "metadata": {},
   "outputs": [],
   "source": [
    "total = total_price_custumer_orders(customer_orders)"
   ]
  },
  {
   "cell_type": "markdown",
   "id": "00b3a287",
   "metadata": {},
   "source": [
    "<h1>Ejercicio 4<h1>"
   ]
  },
  {
   "cell_type": "code",
   "execution_count": 21,
   "id": "913cc14d",
   "metadata": {},
   "outputs": [],
   "source": [
    "def update_inventory(customer_orders, inventory):\n",
    "    for order in customer_orders:\n",
    "        if order in inventory:\n",
    "            inventory[order] -= 1  \n",
    "        else:\n",
    "            print(f\"El {order} no está en el inventario. Se agregará con cantidad 0.\")\n",
    "            inventory[order] = -1  \n",
    "\n",
    "    inventory = {product: quantity for product, quantity in inventory.items() if quantity > 0}\n",
    "\n",
    "    return inventory\n"
   ]
  },
  {
   "cell_type": "code",
   "execution_count": 22,
   "id": "caae8c53",
   "metadata": {},
   "outputs": [],
   "source": [
    "inventory_actualizado = update_inventory(customer_orders, inventory)"
   ]
  },
  {
   "cell_type": "code",
   "execution_count": 23,
   "id": "45a754c1",
   "metadata": {},
   "outputs": [
    {
     "name": "stdout",
     "output_type": "stream",
     "text": [
      "Inventario actualizado: {'t-shirts': 5, 'mugs': 4, 'hats': 3, 'books': 2, 'keychains': 1, 'keychain': -1, 'hat': -1}\n"
     ]
    }
   ],
   "source": [
    "print(\"Inventario actualizado:\", updated_inventory)"
   ]
  },
  {
   "cell_type": "markdown",
   "id": "dac19122",
   "metadata": {},
   "source": [
    "<h1>Ejercicio 5<h1>"
   ]
  },
  {
   "cell_type": "code",
   "execution_count": 20,
   "id": "b65adcd5",
   "metadata": {},
   "outputs": [
    {
     "name": "stdout",
     "output_type": "stream",
     "text": [
      "El precio total es: 31.29\n"
     ]
    }
   ],
   "source": [
    "print(f\"El precio total es: {total}\")"
   ]
  }
 ],
 "metadata": {
  "kernelspec": {
   "display_name": "Python 3 (ipykernel)",
   "language": "python",
   "name": "python3"
  },
  "language_info": {
   "codemirror_mode": {
    "name": "ipython",
    "version": 3
   },
   "file_extension": ".py",
   "mimetype": "text/x-python",
   "name": "python",
   "nbconvert_exporter": "python",
   "pygments_lexer": "ipython3",
   "version": "3.7.9"
  }
 },
 "nbformat": 4,
 "nbformat_minor": 5
}
